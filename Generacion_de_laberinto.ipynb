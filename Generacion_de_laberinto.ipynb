{
  "nbformat": 4,
  "nbformat_minor": 0,
  "metadata": {
    "colab": {
      "provenance": [],
      "authorship_tag": "ABX9TyOo9xYIMeAO0j2udq42lpNu"
    },
    "kernelspec": {
      "name": "python3",
      "display_name": "Python 3"
    },
    "language_info": {
      "name": "python"
    }
  },
  "cells": [
    {
      "cell_type": "code",
      "execution_count": null,
      "metadata": {
        "id": "DnxV2OUAtDvr"
      },
      "outputs": [],
      "source": [
        "import random\n",
        "\n",
        "N = 5\n",
        "\n",
        "movimientos = [(1, 0), (0, 1), (-1, 0), (0, -1)]\n",
        "\n",
        "def es_valido(x, y, laberinto):\n",
        "    return 0 <= x < N and 0 <= y < N and laberinto[x][y] == 0\n",
        "\n",
        "def generar_laberinto():\n",
        "    laberinto = []\n",
        "    for i in range(N):\n",
        "      fila = []\n",
        "      for j in range(N):\n",
        "        fila.append(0)\n",
        "      laberinto.append(fila)\n",
        "\n",
        "    laberinto[0][0] = 1\n",
        "\n",
        "\n",
        "\n",
        "    def backtrack(x, y):\n",
        "        random.shuffle(movimientos)\n",
        "\n",
        "        for dx, dy in movimientos:\n",
        "            nx, ny = x + dx, y + dy\n",
        "\n",
        "            if es_valido(nx, ny, laberinto):\n",
        "                paredes_alrededor = sum(1 for mx, my in movimientos if not es_valido(nx + mx, ny + my, laberinto))\n",
        "\n",
        "                if paredes_alrededor < 3:\n",
        "                    laberinto[nx][ny] = 1\n",
        "                    backtrack(nx, ny)\n",
        "\n",
        "    backtrack(0, 0)\n",
        "\n",
        "    laberinto[N-1][N-1] = 2\n",
        "\n",
        "    if laberinto[N-2][N-1] == 0 and laberinto[N-1][N-2] == 0:\n",
        "        laberinto[N-1][N-2] = 1\n",
        "\n",
        "    laberinto[1][1] = 3\n",
        "    laberinto[2][1] = 4\n",
        "\n",
        "    laberinto[3][3] = 5\n",
        "\n",
        "    return laberinto\n",
        "\n",
        "laberinto = generar_laberinto()\n",
        "for fila in laberinto:\n",
        "    print(fila),"
      ]
    }
  ]
}